{
 "cells": [
  {
   "cell_type": "code",
   "execution_count": 1,
   "metadata": {},
   "outputs": [],
   "source": [
    "import instaloader\n",
    "import pandas as pd\n",
    "from datetime import datetime\n",
    "from sqlalchemy import create_engine, text\n",
    "from dotenv import load_dotenv\n",
    "import os"
   ]
  },
  {
   "cell_type": "code",
   "execution_count": 2,
   "metadata": {},
   "outputs": [],
   "source": [
    "load_dotenv()\n",
    "USER = os.getenv('IG_USER')\n",
    "PASSWORD = os.getenv('IG_PASS')\n",
    "\n",
    "server = os.getenv('DB_SERVER')\n",
    "database = os.getenv('DB_DATABASE')\n",
    "username = os.getenv('DB_USERNAME')\n",
    "password = os.getenv('DB_PASSWORD')\n",
    "\n",
    "connection_string = f'mysql+pymysql://{username}:{password}@{server}/{database}'\n",
    "\n",
    "engine = create_engine(connection_string)\n",
    "\n",
    "seguidos = []\n",
    "seguidores = []"
   ]
  },
  {
   "cell_type": "code",
   "execution_count": 3,
   "metadata": {},
   "outputs": [],
   "source": [
    "# Instancia en L\n",
    "L = instaloader.Instaloader()\n",
    "\n",
    "# Inicio de sesión\n",
    "L.login(USER, PASSWORD)\n",
    "\n",
    "# Recopila datos del perfil\n",
    "profile = instaloader.Profile.from_username(L.context, USER)"
   ]
  },
  {
   "cell_type": "code",
   "execution_count": 4,
   "metadata": {},
   "outputs": [
    {
     "name": "stdout",
     "output_type": "stream",
     "text": [
      "ssala_ follows these profiles:\n"
     ]
    }
   ],
   "source": [
    "# Itera seguidos\n",
    "print(\"{} follows these profiles:\".format(profile.username))\n",
    "for followee in profile.get_followees():\n",
    "    seguidos.append(followee.username)"
   ]
  },
  {
   "cell_type": "code",
   "execution_count": 5,
   "metadata": {},
   "outputs": [
    {
     "name": "stdout",
     "output_type": "stream",
     "text": [
      "ssala_ follows these profiles:\n"
     ]
    }
   ],
   "source": [
    "# Itera seguidores\n",
    "print(\"{} follows these profiles:\".format(profile.username))\n",
    "for followers in profile.get_followers():\n",
    "    seguidores.append(followers.username)"
   ]
  },
  {
   "cell_type": "code",
   "execution_count": 6,
   "metadata": {},
   "outputs": [],
   "source": [
    "# Crea el DF de seguidos para subir a la base de datos\n",
    "data = {'Usuario': seguidos}\n",
    "df = pd.DataFrame(data)\n",
    "with engine.begin() as connection:\n",
    "    delete_sql = text(\"\"\"\n",
    "        DELETE FROM seguidos\n",
    "        \"\"\")\n",
    "    connection.execute(delete_sql)\n",
    "    \n",
    "df.to_sql('seguidos', engine, if_exists='append', index=False)"
   ]
  },
  {
   "cell_type": "code",
   "execution_count": 7,
   "metadata": {},
   "outputs": [],
   "source": [
    "# Crea el DF de seguidores para subir a la base de datos\n",
    "data = {'Usuario': seguidores}\n",
    "df = pd.DataFrame(data)\n",
    "with engine.begin() as connection:\n",
    "    delete_sql = text(\"\"\"\n",
    "        DELETE FROM seguidores\n",
    "        \"\"\")\n",
    "    connection.execute(delete_sql)\n",
    "    \n",
    "df.to_sql('seguidores', engine, if_exists='append', index=False)"
   ]
  },
  {
   "cell_type": "code",
   "execution_count": 8,
   "metadata": {},
   "outputs": [],
   "source": [
    "# Convertir las listas en sets\n",
    "set_seguidos = set(seguidos)\n",
    "set_seguidores = set(seguidores)\n",
    "\n",
    "# Usuarios que sigues pero que no te siguen\n",
    "no_te_siguen = set_seguidos - set_seguidores\n",
    "\n",
    "# Usuarios que te siguen pero que tú no sigues\n",
    "no_sigues = set_seguidores - set_seguidos\n",
    "\n",
    "# Convertir los resultados de vuelta a listas (opcional)\n",
    "no_te_siguen_lista = list(no_te_siguen)\n",
    "no_sigues_lista = list(no_sigues)"
   ]
  },
  {
   "cell_type": "code",
   "execution_count": 9,
   "metadata": {},
   "outputs": [],
   "source": [
    "# Crear DataFrames a partir de los diccionarios\n",
    "df_seguidores = pd.DataFrame({\n",
    "    'Seguidor No Seguido': no_sigues_lista\n",
    "})\n",
    "\n",
    "df_seguidos = pd.DataFrame({\n",
    "    'Seguido que No Sigue': no_te_siguen_lista\n",
    "})\n",
    "\n",
    "# Guardar los DataFrames en archivos Excel\n",
    "df_seguidores.to_excel('seguidores.xlsx', index=False)\n",
    "df_seguidos.to_excel('seguidos.xlsx', index=False)"
   ]
  }
 ],
 "metadata": {
  "kernelspec": {
   "display_name": "Python 3",
   "language": "python",
   "name": "python3"
  },
  "language_info": {
   "codemirror_mode": {
    "name": "ipython",
    "version": 3
   },
   "file_extension": ".py",
   "mimetype": "text/x-python",
   "name": "python",
   "nbconvert_exporter": "python",
   "pygments_lexer": "ipython3",
   "version": "3.11.1"
  }
 },
 "nbformat": 4,
 "nbformat_minor": 2
}
