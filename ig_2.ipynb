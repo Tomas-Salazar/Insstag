{
 "cells": [
  {
   "cell_type": "code",
   "execution_count": 1,
   "metadata": {},
   "outputs": [],
   "source": [
    "import instaloader\n",
    "import pandas as pd\n",
    "from datetime import datetime\n",
    "from sqlalchemy import create_engine, text\n",
    "from dotenv import load_dotenv\n",
    "import os"
   ]
  },
  {
   "cell_type": "code",
   "execution_count": 2,
   "metadata": {},
   "outputs": [],
   "source": [
    "load_dotenv()\n",
    "USER = os.getenv('IG_USER')\n",
    "PASSWORD = os.getenv('IG_PASS')\n",
    "\n",
    "server = os.getenv('DB_SERVER')\n",
    "database = os.getenv('DB_DATABASE')\n",
    "username = os.getenv('DB_USERNAME')\n",
    "password = os.getenv('DB_PASSWORD')\n",
    "\n",
    "connection_string = f'mysql+pymysql://{username}:{password}@{server}/{database}'\n",
    "\n",
    "engine = create_engine(connection_string)\n",
    "\n",
    "seguidos = []\n",
    "seguidores = []"
   ]
  },
  {
   "cell_type": "code",
   "execution_count": 3,
   "metadata": {},
   "outputs": [],
   "source": [
    "# Instancia en L\n",
    "L = instaloader.Instaloader()\n",
    "\n",
    "# Inicio de sesión\n",
    "L.login(USER, PASSWORD)\n",
    "\n",
    "# Recopila datos del perfil\n",
    "profile = instaloader.Profile.from_username(L.context, USER)"
   ]
  },
  {
   "cell_type": "code",
   "execution_count": 4,
   "metadata": {},
   "outputs": [
    {
     "name": "stdout",
     "output_type": "stream",
     "text": [
      "ssala_ follows these profiles:\n"
     ]
    }
   ],
   "source": [
    "# Itera seguidos\n",
    "print(\"{} follows these profiles:\".format(profile.username))\n",
    "for followee in profile.get_followees():\n",
    "    seguidos.append(followee.username)"
   ]
  },
  {
   "cell_type": "code",
   "execution_count": 5,
   "metadata": {},
   "outputs": [
    {
     "name": "stdout",
     "output_type": "stream",
     "text": [
      "ssala_ follows these profiles:\n"
     ]
    }
   ],
   "source": [
    "# Itera seguidores\n",
    "print(\"{} follows these profiles:\".format(profile.username))\n",
    "for followers in profile.get_followers():\n",
    "    seguidores.append(followers.username)"
   ]
  },
  {
   "cell_type": "code",
   "execution_count": 6,
   "metadata": {},
   "outputs": [],
   "source": [
    "# # Crea el DF de seguidos para subir a la base de datos\n",
    "# data = {'Usuario': seguidos}\n",
    "# df = pd.DataFrame(data)\n",
    "# with engine.begin() as connection:\n",
    "#     delete_sql = text(\"\"\"\n",
    "#         DELETE FROM seguidos\n",
    "#         \"\"\")\n",
    "#     connection.execute(delete_sql)\n",
    "    \n",
    "# df.to_sql('seguidos', engine, if_exists='append', index=False)"
   ]
  },
  {
   "cell_type": "code",
   "execution_count": 7,
   "metadata": {},
   "outputs": [],
   "source": [
    "# # Crea el DF de seguidores para subir a la base de datos\n",
    "# data = {'Usuario': seguidores}\n",
    "# df = pd.DataFrame(data)\n",
    "# with engine.begin() as connection:\n",
    "#     delete_sql = text(\"\"\"\n",
    "#         DELETE FROM seguidores\n",
    "#         \"\"\")\n",
    "#     connection.execute(delete_sql)\n",
    "    \n",
    "# df.to_sql('seguidores', engine, if_exists='append', index=False)"
   ]
  },
  {
   "cell_type": "code",
   "execution_count": 8,
   "metadata": {},
   "outputs": [
    {
     "name": "stdout",
     "output_type": "stream",
     "text": [
      "Usuarios que sigues pero que no te siguen: ['exezeballos02', 'eugeniomonesma', 'sciepro.official', 'dr.maurimelano', 'enzojfernandez', 'alltechstore.ok', 'mateomontenegro_', 'glomerulito', 'art_dailydose', 'todospormelina', 'catloversmag', 'gesconsinternacional', 'natureismetal', 'ibaillanos', 'informacioncabj', 'la_ciencia_dice', 'mktregistrado', 'cats.kuties', 'medicinaclinica', 'soloreguetonviejo', 'vet.chilavert', 'mundo.bostero', 'hablemosinenglish', 'bocaskills', 'pastapanna_vb', 'beps_asesores', 'micabaldassarri', 'rogerfederer', 'brendmayer', 'insectguru', 'the_inverts_kingdom', 'marcosrojo', 'fisicogamer', 'officialfightlab', '7futsal', 'kitrinos.acc', 'apuntesclinicos', 'apuroboca_', 'patitasvillaballester', 'flanchota', 'arts_drawings_1', 'estoesbocart', 'transfermarkt_official', 'cristiano', 'hgp.media', 'emiliamernes', 'cerebrodigital.ia', 'medicalpedia', 'bocafutfemenino', 'mariabecerra', 'lateoriademedicina', 'unpocoderuidook', 'antonelaroccuzzo', 'catslovings', '_notttme__', 'cienciasmedicas.uba', 'outofcontext_arg', 'dto.altosdelfindelmundo', 'meracontactcenter', 'cdeciencia_oficial', 'c5n', 'rewilding_argentina', 'about_dentistry', '9zteam', 'taller.larretape', 'melco.nails', 'fedeshortrede', 'buenosaires.ar', 'perroscalle', 'ambito_financiero', 'escueladedatosvivos', 'kaaseveroo', 'fmsarg', 'spider.cafe', 'rafaelnadal', 'el_buho_ciro_', 'bugz_uk', 'universosparalelosduo', 'sobrecodigo', 'unsamoficial', 'francopisso', 'datascienceargentina', 'santanderopenacademy', 'tntecno', 'buenosairesrandom', 'shin_joo_sub__', 'luccianos_', 'lic.ceciliace', 'memesdelbokita', 'labora.ar', 'dharmastudio__', 'lanacioncom', 'jukeds', 'lcd_unsam', 'thegreatplanet', 'amankharwal.official', 'mrsabores1', 'infofmed', 'snagbug', 'valucervantes', 'myneurosurgery', 'badbunnypr', 'intermiamicf', 'mindhub_la', 'carokowanzenglish', 'dramariajulianaromero', 'diario.ole', 'catsdoingthings', 'somos.mjl', 'delpotrojuan', 'neymarjr', 'rincondelveterinario', 'jasantaolalla', 'natgeo', 'amomedicina_', 'gallosflow', 'camiferreiro_', 'luiisvzqz', 'nicki.nicole', 'gloss_works', 'dai_martino', '___argentina______', 'cecicogo', 'med.uba_', 'todonoticias', 'beautifuldestinations', 'vet_animal_', 'datasciencebrain', 'colonyhorm', 'alvaro.chirou', 'invert_macro', 'labestiadelhardcore', 'lanemiccat2', 'cbcuba', 'redbullbatalla', 'leomessi', 'elrincondelmedico', 'dentists.doctors', 'pagina12', 'ataquefutbolero', 'dr.smile', 'bizarrap', 'don.bionauta', 'natgeowild', 'futbolargmundo', 'cats_of_instagram', 'clarincom', 'ubarectorado', 'juegos_de_infancia', 'cataniaperfumes', 'zoelcontartese', 'trabajoba', 'diegoilfigaro', 'neurofacil', 'discovery', 'cecim.nemed', 'sukiicat', 'songoku_geo', 'bocajrs', 'tapschile', 'developers_society', 'ecyt.unsam', '433', 'memetrackermx', 'sepasunsam', 'refugioenalerta', 'reinoanimalx', 'udemy', 'djokernole', 'beautiful_insects_japan', 'comunidadcbcuba', 'ants_ksa', 'parquesnacionalesar', 'lamitadmas1', 'espacioexactas', 'ectotherm_aesthetics', 'medicalcreationsofficial', 'australianreptilepark', 'institutohumai', 'artstrending', 'lachicadelbrunch', 'tinistoessel', 'sofisantilli_', 'carlitosalcarazz', 'sweetlolu', 'onefootball', 'tycsports', 'ayudaanato', 'luisadvincula17_', 'catloversclub', 'caminargentina', 'arianagrande', 'codigo.python', 'fotos.antiguas.ba', 'lovinganimals.dg', 'pups', 'andreacecilia16'] \n",
      "Son un total de 197 personas.\n",
      "\n",
      "\n",
      "Usuarios que te siguen pero que tú no sigues: ['nnnnnnnnnnnnnnacho', 'sergio_g_alvarez', 'mica_abibe', 'limon_mb', 'medmonicos', 'federicomirandolaa', 'divas.denim', 'routersmx', 'lockindumentaria', 'sol_montiel10', 'ivanaheredia_', 'artecamposasha', 'socijh18', 'frasetum.bler', 'sabotajemusica', 'labandadeartejh', 'm.ggarcia____', 'clauditooscar', 'sergiodesouzaoli', 'enaccion.exactas', 'snowtravel3df', 'lapachomaderapura', 'dantravelporelmundo', 'ybeautyplace', 'maxdro23', 'r.r_indumentaria', 'ulicesjara', 'nahuelbranciforte', 'silvig_espaciobienestar', 'escudero7273_______', 'noddy_khan_457', 'botineszonanorte', 'jorgecitox', 'micros_panter_sm_ballester', 'caromica18', 'florenciamendez97', 'platosdemadera', 'vibras.naturaless', 'backingsupplements', 'maxiite', 'patri_c24', 'remerasund3r', 'variete_show', 'ensamble.edm.vb', 'j_tinao', 'eleccion_natural', 'morgenstrauss123', 'sanandrescrossfit', 'beeluricco', 'jhpromo16tm', 'florenciamartinez__18', 'andysilva2233', 'ayee.dechurruca25', 'eze___rc', 'lucas_isilva1999', 'julioivanroldanarias', '1dchkb', 'fede_mirandola', 'miligph', 'dragambinoangela', 'defz117', 'lu.y.co', 'oliviamiashowroom', 'cdelcanto2', '_wearurban', 'perritosenfamilia', 'comidascaserasballester', 'adam_smitt248', 'nereyanel', 'romanobelen_', 'anatomia_clases.global', 'lacorriente.csmedicas', '420weedtoke420', 'juan.s.1998', 'josse.diaz_', 'sie7e_mas', 'jhsociales16', 'lubricentroalfa', 'sheisramona_delantales', 'bordaa_guadaa', '_aylu', 'carolsilve96', '24siempre.bebidas', 'pacho_aldade', 'miguel57atr', 'lula_cocinaconessen', 'green.river__', 'photo.objetivo22', 'agusavila2018', 'simplementefutebol', 'te_damos_trabajos', 'sublimeironia', 'xluzdelalma', 'genaroloisi', 'andimo_24', 'teccellcomunicaciones', 'estilourbanomoreno', 'justcausestore', 'nimania.indumentaria', 'rodgerskawooya', 'abigail_diiaz', 'micalzadotuandar', 'mariaantonietaind', 'tiempoextra.showroom', 'lasmoritas_ropa', '3d.axis', 'micaduarte.w', 'shine.joyeriadental', 'nahisstore', 'bochitaaa', 'natuj28', 'disneywonderstm', '6tosocagusti', 'agusttina.or', 'eladvenenpio', '6tonatjh', 'barbero.joa', 'travel_zonanorte', 'heartlaboratory', 'nahiicarril', 'enjoyviplebrique', 'buenasvibras.fundasyaccesorios', 'martu.coni', '_cosas_78', 'micaayelen.b', 'fitclub_bienestar', 'apiacerebarras', 'mariciojaet', 'adiestramientocanino1', 'smsventas', 'ponsheladeria', 'arielruffillo', 'indumentariask', 'sofi_sierra8', 'laspastasdemora', 'arcojh17', 'brooklynchelseapalermo', 'distridibea', 'giantoffoletto', 'drdanielcasper', 'sonnyy_boyyy', 'beatriz.gandolfo', 'maiilenleonella589', 'sea___of_secrets', 'joa.barber', 'eduurco.ph', 'ccc_crochett', 'malaikaaa.clothing', 'huguito.recalde', 'gonzalo.amarilla', 'quelcarvalhorc', 'iara_almada', 'padua_promo17', 'micro_enfoque_oficial', 'juli.ta12390', 'buenosairesforthe', 'residentesmd', 'bottiestwerk', 'entrenamientovocalbene', 'afroditapeluqueria', 'ibsexto18', 'lis_estetica_', '6tosocialesjh', 'med.hoy', 'isaeconomia', 'labina.deco', 'foodbeto', 'maxiisenaaa', 'melu.08', 'feria_12del6', 'ginobraghero10', '__myoutfit', 'essenvillaballester', 'nflfansjerseysshop', 'stickersanmartin', 'microcromo_it', 'isanat18'] \n",
      "Son un total de 177 personas.\n",
      "\n",
      "\n"
     ]
    }
   ],
   "source": [
    "# Convertir las listas en sets\n",
    "set_seguidos = set(seguidos)\n",
    "set_seguidores = set(seguidores)\n",
    "\n",
    "# Usuarios que sigues pero que no te siguen\n",
    "no_te_siguen = set_seguidos - set_seguidores\n",
    "\n",
    "# Usuarios que te siguen pero que tú no sigues\n",
    "no_sigues = set_seguidores - set_seguidos\n",
    "\n",
    "# Convertir los resultados de vuelta a listas (opcional)\n",
    "no_te_siguen_lista = list(no_te_siguen)\n",
    "no_sigues_lista = list(no_sigues)\n",
    "\n",
    "print(\"Usuarios que sigues pero que no te siguen:\", no_te_siguen_lista,f'\\nSon un total de {len(no_te_siguen)} personas.\\n\\n')\n",
    "print(\"Usuarios que te siguen pero que tú no sigues:\", no_sigues_lista,f'\\nSon un total de {len(no_sigues)} personas.\\n\\n')"
   ]
  },
  {
   "cell_type": "code",
   "execution_count": 9,
   "metadata": {},
   "outputs": [],
   "source": [
    "# Crear DataFrames a partir de los diccionarios\n",
    "df_seguidores = pd.DataFrame({\n",
    "    'Seguidor No Seguido': no_sigues_lista\n",
    "})\n",
    "\n",
    "df_seguidos = pd.DataFrame({\n",
    "    'Seguido que No Sigue': no_te_siguen_lista\n",
    "})\n",
    "\n",
    "# Guardar los DataFrames en archivos Excel\n",
    "df_seguidores.to_excel('seguidores.xlsx')\n",
    "df_seguidos.to_excel('seguidos.xlsx')"
   ]
  }
 ],
 "metadata": {
  "kernelspec": {
   "display_name": "Python 3",
   "language": "python",
   "name": "python3"
  },
  "language_info": {
   "codemirror_mode": {
    "name": "ipython",
    "version": 3
   },
   "file_extension": ".py",
   "mimetype": "text/x-python",
   "name": "python",
   "nbconvert_exporter": "python",
   "pygments_lexer": "ipython3",
   "version": "3.11.1"
  }
 },
 "nbformat": 4,
 "nbformat_minor": 2
}
